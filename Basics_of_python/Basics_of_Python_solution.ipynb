{
 "cells": [
  {
   "cell_type": "markdown",
   "metadata": {},
   "source": [
    "# Welcome to the Bootcamp"
   ]
  },
  {
   "cell_type": "markdown",
   "metadata": {},
   "source": [
    "Program to check if python is correctly installed\n"
   ]
  },
  {
   "cell_type": "markdown",
   "metadata": {},
   "source": [
    "Hello_World.py"
   ]
  },
  {
   "cell_type": "code",
   "execution_count": 1,
   "metadata": {},
   "outputs": [
    {
     "name": "stdout",
     "output_type": "stream",
     "text": [
      "Hello World\n",
      "Hello Ali Khan\n"
     ]
    }
   ],
   "source": [
    "## Hello world program with IO\n",
    "\n",
    "print(\"Hello World\")\n",
    "x = input(\"What is your name?\")\n",
    "print(\"Hello \" + x)"
   ]
  },
  {
   "cell_type": "markdown",
   "metadata": {},
   "source": [
    "Sum_Of_Numbers.py"
   ]
  },
  {
   "cell_type": "code",
   "execution_count": null,
   "metadata": {},
   "outputs": [],
   "source": [
    "# Python program to find out the sum of 2 given numbers:\n",
    "\n",
    "# Input 2 numbers from the user:\n",
    "num1 = int(input(\"Enter the first number: \"))\n",
    "num2 = int(input(\"Enter the second number: \"))\n",
    "# Calculate the sum of the 2 numbers:\n",
    "sum = num1 + num2\n",
    "# Print the sum of the 2 numbers:\n",
    "print(\"The sum of the 2 numbers is: \", sum)\n"
   ]
  },
  {
   "cell_type": "code",
   "execution_count": 4,
   "metadata": {},
   "outputs": [
    {
     "name": "stdout",
     "output_type": "stream",
     "text": [
      "Grades calculator\n",
      "Your grade is:\n",
      "B\n"
     ]
    }
   ],
   "source": [
    "## if, elif and else loop\n",
    "\n",
    "print(\"Grade calculator\")\n",
    "grades = input(\"Please enter your grades: \")\n",
    "grades = int(grades)\n",
    "print(\"Your grade is:\")\n",
    "if grades >= 90:\n",
    "    print(\"A\")\n",
    "elif grades >= 80:\n",
    "    print(\"B\")\n",
    "elif grades >= 70:\n",
    "    print(\"C\")\n",
    "elif grades >= 60:\n",
    "    print(\"D\")\n",
    "elif grades >= 50:\n",
    "    print(\"E\")\n",
    "else:\n",
    "    print(\"F\")"
   ]
  },
  {
   "cell_type": "code",
   "execution_count": 1,
   "metadata": {},
   "outputs": [],
   "source": [
    "## Program to find the sum of numbers from 1 to 100 using a while loop\n"
   ]
  },
  {
   "cell_type": "code",
   "execution_count": 6,
   "metadata": {},
   "outputs": [
    {
     "name": "stdout",
     "output_type": "stream",
     "text": [
      "Grades calculator\n",
      "Please enter a number\n",
      "Please enter a number\n",
      "Please enter a number\n",
      "Your grade is:\n",
      "F\n"
     ]
    }
   ],
   "source": [
    "## if, elif else with a while loop for error correction:\n",
    "\n",
    "print(\"Grades calculator\")\n",
    "grades = input(\"Please enter your grades: \")\n",
    "\n",
    "# Here we will be trying to catch errors using the try and except function\n",
    "while type(grades) != int:\n",
    "    try:\n",
    "        grades = int(grades)\n",
    "    except:\n",
    "        print(\"Please enter a number\")\n",
    "        grades = input(\"Please enter your grades: \")\n",
    "\n",
    "\n",
    "print(\"Your grade is:\")\n",
    "if grades >= 90:\n",
    "    print(\"A\")\n",
    "elif grades >= 80:\n",
    "    print(\"B\")\n",
    "elif grades >= 70:\n",
    "    print(\"C\")\n",
    "elif grades >= 60:\n",
    "    print(\"D\")\n",
    "elif grades >= 50:\n",
    "    print(\"E\")\n",
    "else:\n",
    "    print(\"F\")\n"
   ]
  },
  {
   "cell_type": "code",
   "execution_count": null,
   "metadata": {},
   "outputs": [],
   "source": []
  }
 ],
 "metadata": {
  "kernelspec": {
   "display_name": "Python 3",
   "language": "python",
   "name": "python3"
  },
  "language_info": {
   "codemirror_mode": {
    "name": "ipython",
    "version": 3
   },
   "file_extension": ".py",
   "mimetype": "text/x-python",
   "name": "python",
   "nbconvert_exporter": "python",
   "pygments_lexer": "ipython3",
   "version": "3.11.5"
  },
  "orig_nbformat": 4
 },
 "nbformat": 4,
 "nbformat_minor": 2
}
