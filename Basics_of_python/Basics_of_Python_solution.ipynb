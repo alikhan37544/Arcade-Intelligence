{
 "cells": [
  {
   "cell_type": "markdown",
   "metadata": {},
   "source": [
    "# Welcome to the Bootcamp"
   ]
  },
  {
   "cell_type": "markdown",
   "metadata": {},
   "source": [
    "Program to check if python is correctly installed\n"
   ]
  },
  {
   "cell_type": "markdown",
   "metadata": {},
   "source": [
    "Hello_World.py"
   ]
  },
  {
   "cell_type": "code",
   "execution_count": 1,
   "metadata": {},
   "outputs": [
    {
     "name": "stdout",
     "output_type": "stream",
     "text": [
      "Hello World\n",
      "Hello Ali Khan\n"
     ]
    }
   ],
   "source": [
    "## Hello world program with IO\n",
    "\n",
    "print(\"Hello World\")\n",
    "x = input(\"What is your name?\")\n",
    "print(\"Hello \" + x)"
   ]
  },
  {
   "cell_type": "markdown",
   "metadata": {},
   "source": [
    "Sum_Of_Numbers.py"
   ]
  },
  {
   "cell_type": "code",
   "execution_count": null,
   "metadata": {},
   "outputs": [],
   "source": [
    "# Python program to find out the sum of 2 given numbers:\n",
    "\n",
    "# Input 2 numbers from the user:\n",
    "num1 = int(input(\"Enter the first number: \"))\n",
    "num2 = int(input(\"Enter the second number: \"))\n",
    "# Calculate the sum of the 2 numbers:\n",
    "sum = num1 + num2\n",
    "# Print the sum of the 2 numbers:\n",
    "print(\"The sum of the 2 numbers is: \", sum)\n"
   ]
  },
  {
   "cell_type": "markdown",
   "metadata": {},
   "source": [
    "# List and List operations"
   ]
  },
  {
   "cell_type": "markdown",
   "metadata": {},
   "source": [
    "list_and_list_operations.py"
   ]
  },
  {
   "cell_type": "code",
   "execution_count": null,
   "metadata": {},
   "outputs": [],
   "source": [
    "# Python program to demonstrate some basic list operations:\n",
    "\n",
    "# Create a list:\n",
    "list1 = [1, 2, 3, 4, 5]\n",
    "print(\"The list is: \", list1)\n",
    "\n",
    "# Accessing elements of a list:\n",
    "print(\"The first element of the list is: \", list1[0])\n",
    "print(\"The second element of the list is: \", list1[1])\n",
    "print(\"The third element of the list is: \", list1[2])\n",
    "print(\"The fourth element of the list is: \", list1[3])\n",
    "print(\"The fifth element of the list is: \", list1[4])\n",
    "\n",
    "# Acessing using slicing:\n",
    "print(\"The first 3 elements of the list are: \", list1[0:3])\n",
    "print(\"The last 3 elements of the list are: \", list1[2:5])\n",
    "\n",
    "# Updating elements of a list:\n",
    "list1[0] = 10\n",
    "print(\"The list after updating the first element is: \", list1)\n",
    "\n",
    "# Deleting elements of a list:\n",
    "del list1[0]\n",
    "print(\"The list after deleting the first element is: \", list1)\n",
    "\n",
    "# Length of a list:\n",
    "print(\"The length of the list is: \", len(list1))\n",
    "\n",
    "# Concatenation of lists:\n",
    "list2 = [6, 7, 8, 9, 10]\n",
    "print(\"The second list is: \", list2)\n",
    "list3 = list1 + list2\n",
    "print(\"The concatenated list is: \", list3)\n",
    "\n",
    "# Repetition of lists:\n",
    "list4 = list1 * 3\n",
    "print(\"The repeated list is: \", list4)\n",
    "\n",
    "# Membership of a list:\n",
    "print(\"Is 3 a member of the list? \", 3 in list1)\n",
    "print(\"Is 11 a member of the list? \", 11 in list1)\n",
    "\n",
    "# Iterating through a list:\n",
    "print(\"The elements of the list are: \")\n",
    "for i in list1:\n",
    "    print(i)\n",
    "\n",
    "# Maximum and minimum of a list:\n",
    "print(\"The maximum element of the list is: \", max(list1))\n",
    "print(\"The minimum element of the list is: \", min(list1))\n",
    "\n",
    "# Sorting a list:\n",
    "list5 = [5, 4, 3, 2, 1]\n",
    "print(\"The unsorted list is: \", list5)\n",
    "list5.sort()\n",
    "print(\"The sorted list is: \", list5)\n",
    "\n",
    "# Appending an element to a list:\n",
    "list5.append(6)\n",
    "print(\"The list after appending 6 is: \", list5)\n",
    "\n",
    "# Inserting an element at a particular index:\n",
    "list5.insert(0, 0)\n",
    "print(\"The list after inserting 0 at index 0 is: \", list5)\n",
    "\n",
    "# Removing an element from a list:\n",
    "list5.remove(0)\n",
    "print(\"The list after removing 0 is: \", list5)\n",
    "\n",
    "# Poping an element from a list:\n",
    "list5.pop()\n",
    "print(\"The list after poping an element is: \", list5)\n",
    "\n",
    "# Clearing a list:\n",
    "list5.clear()\n",
    "print(\"The list after clearing is: \", list5)\n",
    "\n",
    "# Counting the number of occurences of an element in a list:\n",
    "list6 = [1, 2, 3, 4, 5, 1, 2, 3, 4, 5]\n",
    "print(\"The list is: \", list6)\n",
    "print(\"The number of occurences of 1 in the list is: \", list6.count(1))\n",
    "\n",
    "# Extending a list:\n",
    "list6.extend([6, 7, 8, 9, 10])\n",
    "print(\"The list after extending is: \", list6)\n",
    "\n",
    "# Index of an element in a list:\n",
    "print(\"The index of 1 in the list is: \", list6.index(1))\n",
    "\n",
    "# Reversing a list:\n",
    "list6.reverse()\n",
    "print(\"The reversed list is: \", list6)\n",
    "\n",
    "# Copying a list:\n",
    "list7 = list6.copy()\n",
    "print(\"The copied list is: \", list7)\n",
    "\n"
   ]
  },
  {
   "cell_type": "markdown",
   "metadata": {},
   "source": [
    "# Conditionals and Loops"
   ]
  },
  {
   "cell_type": "markdown",
   "metadata": {},
   "source": [
    "Conditionals_and_Loops.py"
   ]
  },
  {
   "cell_type": "code",
   "execution_count": null,
   "metadata": {},
   "outputs": [],
   "source": [
    "# Progarm to demonstrate conditional statements in Python:\n",
    "\n",
    "# Input a number from the user:\n",
    "num = int(input(\"Enter a number: \"))\n",
    "# Check if the number is positive:\n",
    "if num > 0:\n",
    "    print(\"The number is positive.\")\n",
    "# Check if the number is negative:\n",
    "elif num < 0:\n",
    "    print(\"The number is negative.\")\n",
    "# If both the above conditions are false, then the number is 0:\n",
    "else:\n",
    "    print(\"The number is 0.\")\n",
    "    \n",
    "# Program to demonstrate the Loops in Python:\n",
    "\n",
    "# Print the numbers from 1 to 10:\n",
    "print(\"The numbers from 1 to 10 are: \")\n",
    "for i in range(1, 11):\n",
    "    print(i)\n",
    "\n",
    "# Print the numbers from 1 to 10 in reverse order:\n",
    "print(\"The numbers from 1 to 10 in reverse order are: \")\n",
    "for i in range(10, 0, -1):\n",
    "    print(i)\n",
    "\n"
   ]
  },
  {
   "cell_type": "code",
   "execution_count": 4,
   "metadata": {},
   "outputs": [
    {
     "name": "stdout",
     "output_type": "stream",
     "text": [
      "Grades calculator\n",
      "Your grade is:\n",
      "B\n"
     ]
    }
   ],
   "source": [
    "## if, elif and else loop\n",
    "\n",
    "print(\"Grade calculator\")\n",
    "grades = input(\"Please enter your grades: \")\n",
    "grades = int(grades)\n",
    "print(\"Your grade is:\")\n",
    "if grades >= 90:\n",
    "    print(\"A\")\n",
    "elif grades >= 80:\n",
    "    print(\"B\")\n",
    "elif grades >= 70:\n",
    "    print(\"C\")\n",
    "elif grades >= 60:\n",
    "    print(\"D\")\n",
    "elif grades >= 50:\n",
    "    print(\"E\")\n",
    "else:\n",
    "    print(\"F\")"
   ]
  },
  {
   "cell_type": "code",
   "execution_count": 1,
   "metadata": {},
   "outputs": [],
   "source": [
    "## Program to find the sum of numbers from 1 to 100 using a while loop\n"
   ]
  },
  {
   "cell_type": "code",
   "execution_count": 6,
   "metadata": {},
   "outputs": [
    {
     "name": "stdout",
     "output_type": "stream",
     "text": [
      "Grades calculator\n",
      "Please enter a number\n",
      "Please enter a number\n",
      "Please enter a number\n",
      "Your grade is:\n",
      "F\n"
     ]
    }
   ],
   "source": [
    "## if, elif else with a while loop for error correction:\n",
    "\n",
    "print(\"Grades calculator\")\n",
    "grades = input(\"Please enter your grades: \")\n",
    "\n",
    "# Here we will be trying to catch errors using the try and except function\n",
    "while type(grades) != int:\n",
    "    try:\n",
    "        grades = int(grades)\n",
    "    except:\n",
    "        print(\"Please enter a number\")\n",
    "        grades = input(\"Please enter your grades: \")\n",
    "\n",
    "\n",
    "print(\"Your grade is:\")\n",
    "if grades >= 90:\n",
    "    print(\"A\")\n",
    "elif grades >= 80:\n",
    "    print(\"B\")\n",
    "elif grades >= 70:\n",
    "    print(\"C\")\n",
    "elif grades >= 60:\n",
    "    print(\"D\")\n",
    "elif grades >= 50:\n",
    "    print(\"E\")\n",
    "else:\n",
    "    print(\"F\")\n"
   ]
  },
  {
   "cell_type": "code",
   "execution_count": null,
   "metadata": {},
   "outputs": [],
   "source": []
  }
 ],
 "metadata": {
  "kernelspec": {
   "display_name": "Python 3",
   "language": "python",
   "name": "python3"
  },
  "language_info": {
   "codemirror_mode": {
    "name": "ipython",
    "version": 3
   },
   "file_extension": ".py",
   "mimetype": "text/x-python",
   "name": "python",
   "nbconvert_exporter": "python",
   "pygments_lexer": "ipython3",
   "version": "3.11.5"
  },
  "orig_nbformat": 4
 },
 "nbformat": 4,
 "nbformat_minor": 2
}
